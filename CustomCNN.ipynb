{
 "cells": [
  {
   "cell_type": "code",
   "execution_count": null,
   "id": "e1a393de",
   "metadata": {},
   "outputs": [],
   "source": [
    "\n",
    "import torch\n",
    "import torch.nn as nn\n",
    "import torch.nn.functional as F\n",
    "\n",
    "class CustomCNN(nn.Module):\n",
    "    def __init__(self, input_channels:int, nodes:list, kernels:list, num_classes:int=10):\n",
    "        \"\"\"\n",
    "        input channels is the number of channels in the input data (e.g., 1 for grayscale, 3 for RGB)\n",
    "        nodes is a list of nodes per layer i.e. 128, 64, 32\n",
    " kernals is a list of the kernals used per layer\n",
    " number of classes is thenumber of outputs (the number of emotions to possibly classify)\n",
    " this creates the neural network with the specified layers and the kernals\n",
    "        \"\"\"\n",
    "        super(CustomCNN, self).__init__()\n",
    "\n",
    "        assert len(nodes) == len(kernels), \"nodes and kernels must have the same length\"\n",
    "\n",
    "        layers = []\n",
    "        in_channels = input_channels\n",
    "\n",
    "        for out_channels, k in zip(nodes, kernels):\n",
    "            conv = nn.Conv2d(in_channels, out_channels, kernel_size=k, padding=k//2)\n",
    "            layers.append(conv)\n",
    "            layers.append(nn.ReLU())\n",
    "            layers.append(nn.MaxPool2d(2))  \n",
    "            in_channels = out_channels\n",
    "\n",
    "        self.conv_layers = nn.Sequential(*layers)\n",
    "\n",
    "        \n",
    "        self.flatten = nn.Flatten()\n",
    "        self.fc = nn.Linear(nodes[-1], num_classes)  \n",
    "\n",
    "    def forward(self, x):\n",
    "        x = self.conv_layers(x)\n",
    "        x = F.adaptive_avg_pool2d(x, (1, 1))  \n",
    "        x = self.flatten(x)\n",
    "        x = self.fc(x)\n",
    "        return x\n"
   ]
  },
  {
   "cell_type": "code",
   "execution_count": null,
   "id": "41dec16d",
   "metadata": {},
   "outputs": [],
   "source": [
    "\n",
    "model = CustomCNN(\n",
    "    input_channels=3,\n",
    "    nodes=[32, 64, 128],\n",
    "    kernels=[3, 3, 5],\n",
    "    num_classes=10\n",
    ")\n",
    "\n",
    "print(model)\n"
   ]
  }
 ],
 "metadata": {
  "language_info": {
   "name": "python"
  }
 },
 "nbformat": 4,
 "nbformat_minor": 5
}
